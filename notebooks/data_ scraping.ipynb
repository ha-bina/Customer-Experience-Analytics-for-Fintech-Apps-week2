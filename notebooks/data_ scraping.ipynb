{
 "cells": [
  {
   "cell_type": "code",
   "execution_count": 17,
   "id": "b1d632ac",
   "metadata": {},
   "outputs": [
    {
     "name": "stdout",
     "output_type": "stream",
     "text": [
      "['BANK_APPS', 'DELAY', 'LANGUAGE', 'REVIEWS_PER_APP', 'SORT', 'Sort', '__builtins__', '__cached__', '__doc__', '__file__', '__loader__', '__name__', '__package__', '__spec__', 'app', 'fetch_app_details', 'format_review_data', 'main', 'os', 'pd', 'reviews', 'scrape_app_reviews', 'time', 'tqdm']\n",
      "\n",
      "Processing: Commercial Bank of Ethiopia\n",
      "Error fetching app com.cbe.mobile.banking: App not found(404).\n",
      "\n",
      "Processing: Bank of Abyssinia\n",
      "Error fetching app com.bankofabyssinia.mobilebanking: App not found(404).\n",
      "\n",
      "Processing: Dashen Bank\n",
      "Error fetching app com.dashen.mobilebanking: App not found(404).\n",
      "KeyError: 'date'. Please check if the required key/column exists in your data.\n"
     ]
    }
   ],
   "source": [
    "import sys\n",
    "sys.path.append('../scripts')  # Add scripts folder to path\n",
    "\n",
    "try:\n",
    "\timport data_collection\n",
    "except ModuleNotFoundError:\n",
    "\tprint(\"Module 'data_collection' not found. Please ensure '../scripts/data_collection.py' exists.\")\n",
    "\n",
    "if 'data_collection' in sys.modules:\n",
    "\tprint(dir(data_collection))  # List all available functions and classes in data_collection.py\n",
    "\n",
    "# If you want to call a function named 'main' from scraping.py, use:\n",
    "# scraping.main()\n",
    "# Uncomment the next line if scraping.py has a main() function:\n",
    "# scraping.main()  # Commented out because 'main' does not exist in scraping.py\n",
    "try:\n",
    "\tdata_collection.main()  # Call the main function from data_collection.py\n",
    "except KeyError as e:\n",
    "\tprint(f\"KeyError: {e}. Please check if the required key/column exists in your data.\")\n",
    "\n"
   ]
  }
 ],
 "metadata": {
  "kernelspec": {
   "display_name": "venv",
   "language": "python",
   "name": "python3"
  },
  "language_info": {
   "codemirror_mode": {
    "name": "ipython",
    "version": 3
   },
   "file_extension": ".py",
   "mimetype": "text/x-python",
   "name": "python",
   "nbconvert_exporter": "python",
   "pygments_lexer": "ipython3",
   "version": "3.13.3"
  }
 },
 "nbformat": 4,
 "nbformat_minor": 5
}
