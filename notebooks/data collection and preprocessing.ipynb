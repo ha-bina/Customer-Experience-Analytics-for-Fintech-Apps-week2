{
 "cells": [
  {
   "cell_type": "code",
   "execution_count": null,
   "id": "36141fec",
   "metadata": {},
   "outputs": [
    {
     "name": "stdout",
     "output_type": "stream",
     "text": [
      "Successfully cleaned and saved data to 'Ethiopian_bank_reviews_clean.csv'\n"
     ]
    }
   ],
   "source": [
    "import sys\n",
    "sys.path.append('../scripts')  # Add the scripts folder to the path\n",
    "import data_collection  # Import the data_collection module\n",
    "#data_collection.collect_data()  # Call the collect_data function from the module\n",
    "data_collection.BANK_APPS\n",
    "data_collection.main()  \n",
    "import data_cleaner\n",
    "data_cleaner.clean_csv('Ethiopian_bank_reviews.csv','Ethiopian_bank_reviews_clean.csv')  # Call the clean_data function from the data_cleaner module\n"
   ]
  },
  {
   "cell_type": "code",
   "execution_count": null,
   "id": "7037b17a",
   "metadata": {},
   "outputs": [],
   "source": []
  }
 ],
 "metadata": {
  "kernelspec": {
   "display_name": "venv",
   "language": "python",
   "name": "python3"
  },
  "language_info": {
   "codemirror_mode": {
    "name": "ipython",
    "version": 3
   },
   "file_extension": ".py",
   "mimetype": "text/x-python",
   "name": "python",
   "nbconvert_exporter": "python",
   "pygments_lexer": "ipython3",
   "version": "3.13.3"
  }
 },
 "nbformat": 4,
 "nbformat_minor": 5
}
