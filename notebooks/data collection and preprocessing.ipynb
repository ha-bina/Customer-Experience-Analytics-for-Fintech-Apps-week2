{
 "cells": [
  {
   "cell_type": "code",
   "execution_count": 1,
   "id": "165a773f",
   "metadata": {},
   "outputs": [
    {
     "name": "stdout",
     "output_type": "stream",
     "text": [
      "\n",
      "Processing: Commercial Bank of Ethiopia\n",
      "Found app: Commercial Bank of Ethiopia\n",
      "Average rating: 4.34/5\n",
      "Total reviews available: 381\n"
     ]
    },
    {
     "name": "stderr",
     "output_type": "stream",
     "text": [
      "Collecting reviews: 100%|██████████| 400/400 [00:10<00:00, 37.16it/s] \n"
     ]
    },
    {
     "name": "stdout",
     "output_type": "stream",
     "text": [
      "Successfully collected 400 reviews\n",
      "\n",
      "Processing: Bank of Abyssinia\n",
      "Found app: BoA Mobile\n",
      "Average rating: 2.73/5\n",
      "Total reviews available: 68\n"
     ]
    },
    {
     "name": "stderr",
     "output_type": "stream",
     "text": [
      "Collecting reviews: 100%|██████████| 400/400 [00:10<00:00, 37.36it/s] \n"
     ]
    },
    {
     "name": "stdout",
     "output_type": "stream",
     "text": [
      "Successfully collected 400 reviews\n",
      "\n",
      "Processing: Dashen Bank\n",
      "Found app: Dashen Bank\n",
      "Average rating: 4.0285716/5\n",
      "Total reviews available: 16\n"
     ]
    },
    {
     "name": "stderr",
     "output_type": "stream",
     "text": [
      "Collecting reviews: 100%|██████████| 400/400 [00:10<00:00, 37.89it/s] "
     ]
    },
    {
     "name": "stdout",
     "output_type": "stream",
     "text": [
      "Successfully collected 400 reviews\n",
      "\n",
      "==================================================\n",
      "Successfully saved 1200 total reviews to ethiopian_bank_reviews_20250608.csv\n",
      "==================================================\n",
      "\n",
      "Review Summary:\n",
      "- Total reviews: 1200\n",
      "- Reviews per app:\n",
      "app_name\n",
      "Commercial Bank of Ethiopia    400\n",
      "BoA Mobile                     400\n",
      "Dashen Bank                    400\n",
      "Name: count, dtype: int64\n",
      "\n",
      "- Rating distribution:\n",
      "rating\n",
      "1    245\n",
      "2     44\n",
      "3     64\n",
      "4     81\n",
      "5    766\n",
      "Name: count, dtype: int64\n"
     ]
    },
    {
     "name": "stderr",
     "output_type": "stream",
     "text": [
      "\n"
     ]
    }
   ],
   "source": [
    "import sys\n",
    "sys.path.append('../scripts')  # Add the scripts folder to the path\n",
    "import data_collection  # Import the data_collection module\n",
    "#data_collection.collect_data()  # Call the collect_data function from the module\n",
    "data_collection.BANK_APPS\n",
    "data_collection.main()  "
   ]
  }
 ],
 "metadata": {
  "kernelspec": {
   "display_name": "venv",
   "language": "python",
   "name": "python3"
  },
  "language_info": {
   "codemirror_mode": {
    "name": "ipython",
    "version": 3
   },
   "file_extension": ".py",
   "mimetype": "text/x-python",
   "name": "python",
   "nbconvert_exporter": "python",
   "pygments_lexer": "ipython3",
   "version": "3.13.3"
  }
 },
 "nbformat": 4,
 "nbformat_minor": 5
}
